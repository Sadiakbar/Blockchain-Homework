{
 "cells": [
  {
   "cell_type": "markdown",
   "id": "b50d095a-b29c-49ad-906f-1f7c45bd6845",
   "metadata": {},
   "source": [
    "### Cryptocurrency Wallet\n",
    "\n",
    "################################################################################\n",
    "For this Challenge, you will assume the perspective of a Fintech Finder customer in order to do the following:\n",
    "\n",
    "* Generate a new Ethereum account instance by using your mnemonic seed phrase (which you created earlier in the module).\n",
    "* Fetch and display the account balance associated with your Ethereum account address.\n",
    "* Calculate the total value of an Ethereum transaction, including the gas estimate, that pays a Fintech Finder candidate for their work.\n",
    "* Digitally sign a transaction that pays a Fintech Finder candidate, and send this transaction to the Ganache blockchain.\n",
    "* Review the transaction hash code associated with the validated blockchain transaction.\n",
    "\n",
    "Once you receive the transaction’s hash code, you will navigate to the Transactions section of Ganache to review the blockchain transaction details. To confirm that you have successfully created the transaction, you will save screenshots to the README.md file of your GitHub repository for this Challenge assignment.\n"
   ]
  },
  {
   "cell_type": "code",
   "execution_count": 3,
   "id": "b1999fd9-43d1-44f7-a664-4257f3dae23c",
   "metadata": {},
   "outputs": [
    {
     "name": "stderr",
     "output_type": "stream",
     "text": [
      "2022-01-23 23:22:47.469 INFO    numexpr.utils: NumExpr defaulting to 6 threads.\n"
     ]
    }
   ],
   "source": [
    "# Imports\n",
    "import streamlit as st\n",
    "from dataclasses import dataclass\n",
    "from typing import Any, List\n",
    "from web3 import Web3\n",
    "w3 = Web3(Web3.HTTPProvider('HTTP://127.0.0.1:7545'))"
   ]
  },
  {
   "cell_type": "markdown",
   "id": "ec8a47cd-f1f8-4fcc-8e98-d24f09203b56",
   "metadata": {},
   "source": [
    "## Step 1:\n",
    "### Import Ethereum Transaction Functions into the Fintech Finder Application\n",
    "\n",
    "In this section, you'll import several functions from the `crypto_wallet.py` script into the file `fintech_finder.py`, which contains code for Fintech Finder’s customer interface, in order to add wallet operations to the\n",
    "application. For this section, you will assume the perspective of a Fintech Finder customer (i.e., you’ll provide your Ethereum wallet and account information to the application).\n",
    "\n",
    "Complete the following steps:\n",
    "\n",
    "1. Review the code contained in the `crypto_wallet.py` script file. Note that the Ethereum transaction functions that you have built throughout this module-including `wallet`, `wallet.derive_acount`, `get_balance`, `fromWei`, `estimateGas`, `sendRawTransaction`, and others&mdash;have now been incorporated into Python functions that allow you to automate the process of accessing them.\n",
    "\n",
    "2. Add your mnemonic seed phrase (provided by Ganache) to the starter code’s `SAMPLE.env` file.When the information has been added, rename the file `.env`.\n",
    "\n",
    "3. Import the following functions from the `crypto_wallet.py` file:\n",
    "* `generate_account`\n",
    "* `get_balance`\n",
    "* `send_transaction`\n",
    "\n",
    "4. Within the Streamlit sidebar section of code, create a variable named `account`. Set this variable equal to a call on the `generate_account` function. This function will create the Fintech Finder customer’s (in this case, your) HD wallet and Ethereum account.\n",
    "\n",
    "5. Within this same section of the `fintech_finder.py` file, define a new `st.sidebar.write` function that will display the balance of the customer’s account. Inside this function, call the `get_balance` function and pass it your Ethereum `account.address`.\n"
   ]
  },
  {
   "cell_type": "code",
   "execution_count": 4,
   "id": "7aeaff08-3ac2-45da-bd1a-3b908e6d4dbc",
   "metadata": {},
   "outputs": [],
   "source": [
    "# Step 1 - Part 3:\n",
    "# Import the following functions from the `crypto_wallet.py` file:\n",
    "# * `generate_account`\n",
    "# * `get_balance`\n",
    "# * `send_transaction`\n",
    "\n",
    "# @TODO:\n",
    "# From `crypto_wallet.py import the functions generate_account, get_balance,\n",
    "#  and send_transaction\n",
    "# YOUR CODE HERE"
   ]
  },
  {
   "cell_type": "code",
   "execution_count": 5,
   "id": "866c37bf-b127-46fd-9266-f7d6f6c74fdc",
   "metadata": {},
   "outputs": [],
   "source": [
    "# Fintech Finder Candidate Information\n",
    "\n",
    "# Database of Fintech Finder candidates including their name, digital address, rating and hourly cost per Ether.\n",
    "# A single Ether is currently valued at $1,500\n",
    "candidate_database = {\n",
    "    \"Lane\": [\"Lane\", \"0xaC8eB8B2ed5C4a0fC41a84Ee4950F417f67029F0\", \"4.3\", .20, \"Images/lane.jpeg\"],\n",
    "    \"Ash\": [\"Ash\", \"0x2422858F9C4480c2724A309D58Ffd7Ac8bF65396\", \"5.0\", .33, \"Images/ash.jpeg\"],\n",
    "    \"Jo\": [\"Jo\", \"0x8fD00f170FDf3772C5ebdCD90bF257316c69BA45\", \"4.7\", .19, \"Images/jo.jpeg\"],\n",
    "    \"Kendall\": [\"Kendall\", \"0x8fD00f170FDf3772C5ebdCD90bF257316c69BA45\", \"4.1\", .16, \"Images/kendall.jpeg\"]\n",
    "}\n",
    "\n",
    "# A list of the FinTech Finder candidates first names\n",
    "people = [\"Lane\", \"Ash\", \"Jo\", \"Kendall\"]\n",
    "\n",
    "\n",
    "def get_people():\n",
    "    \"\"\"Display the database of Fintech Finders candidate information.\"\"\"\n",
    "    db_list = list(candidate_database.values())\n",
    "\n",
    "    for number in range(len(people)):\n",
    "        st.image(db_list[number][4], width=200)\n",
    "        st.write(\"Name: \", db_list[number][0])\n",
    "        st.write(\"Ethereum Account Address: \", db_list[number][1])\n",
    "        st.write(\"FinTech Finder Rating: \", db_list[number][2])\n",
    "        st.write(\"Hourly Rate per Ether: \", db_list[number][3], \"eth\")\n",
    "        st.text(\" \\n\")"
   ]
  },
  {
   "cell_type": "code",
   "execution_count": 7,
   "id": "732505cd-1679-47f8-80bc-d2d6306b4897",
   "metadata": {},
   "outputs": [
    {
     "data": {
      "text/plain": [
       "DeltaGenerator(_root_container=0, _provided_cursor=None, _parent=None, _block_type=None, _form_data=None)"
      ]
     },
     "execution_count": 7,
     "metadata": {},
     "output_type": "execute_result"
    }
   ],
   "source": [
    "# Streamlit Code\n",
    "\n",
    "# Streamlit application headings\n",
    "st.markdown(\"# Fintech Finder!\")\n",
    "st.markdown(\"## Hire A Fintech Professional!\")\n",
    "st.text(\" \\n\")"
   ]
  },
  {
   "cell_type": "code",
   "execution_count": 8,
   "id": "7fcdb94d-458d-41b8-9de3-3105275cee9e",
   "metadata": {},
   "outputs": [
    {
     "data": {
      "text/plain": [
       "DeltaGenerator(_root_container=1, _provided_cursor=None, _parent=DeltaGenerator(_root_container=0, _provided_cursor=None, _parent=None, _block_type=None, _form_data=None), _block_type=None, _form_data=None)"
      ]
     },
     "execution_count": 8,
     "metadata": {},
     "output_type": "execute_result"
    }
   ],
   "source": [
    "# Streamlit Sidebar Code - Start\n",
    "\n",
    "st.sidebar.markdown(\"## Client Account Address and Ethernet Balance in Ether\")"
   ]
  },
  {
   "cell_type": "code",
   "execution_count": 9,
   "id": "54180cab-dfe8-40a7-ba4a-cf4e89066d8e",
   "metadata": {},
   "outputs": [],
   "source": [
    "# Step 1 - Part 4:\n",
    "# Create a variable named `account`. Set this variable equal to a call on the\n",
    "# `generate_account` function. This function will create the Fintech Finder\n",
    "# customer’s (in this case, your) HD wallet and Ethereum account.\n",
    "\n",
    "# @TODO:\n",
    "#  Call the `generate_account` function and save it as the variable `account`\n",
    "# YOUR CODE HERE"
   ]
  },
  {
   "cell_type": "code",
   "execution_count": 10,
   "id": "5d4175b4-a16b-4997-a341-bb34692a122f",
   "metadata": {},
   "outputs": [
    {
     "ename": "NameError",
     "evalue": "name 'account' is not defined",
     "output_type": "error",
     "traceback": [
      "\u001b[1;31m---------------------------------------------------------------------------\u001b[0m",
      "\u001b[1;31mNameError\u001b[0m                                 Traceback (most recent call last)",
      "\u001b[1;32m~\\AppData\\Local\\Temp/ipykernel_16696/4074380225.py\u001b[0m in \u001b[0;36m<module>\u001b[1;34m\u001b[0m\n\u001b[0;32m      1\u001b[0m \u001b[1;31m# Write the client's Ethereum account address to the sidebar\u001b[0m\u001b[1;33m\u001b[0m\u001b[1;33m\u001b[0m\u001b[1;33m\u001b[0m\u001b[0m\n\u001b[1;32m----> 2\u001b[1;33m \u001b[0mst\u001b[0m\u001b[1;33m.\u001b[0m\u001b[0msidebar\u001b[0m\u001b[1;33m.\u001b[0m\u001b[0mwrite\u001b[0m\u001b[1;33m(\u001b[0m\u001b[0maccount\u001b[0m\u001b[1;33m.\u001b[0m\u001b[0maddress\u001b[0m\u001b[1;33m)\u001b[0m\u001b[1;33m\u001b[0m\u001b[1;33m\u001b[0m\u001b[0m\n\u001b[0m",
      "\u001b[1;31mNameError\u001b[0m: name 'account' is not defined"
     ]
    }
   ],
   "source": [
    "# Write the client's Ethereum account address to the sidebar\n",
    "st.sidebar.write(account.address)"
   ]
  },
  {
   "cell_type": "code",
   "execution_count": 11,
   "id": "88b5abfc-4fda-45b6-bc2a-e98d195fc36d",
   "metadata": {},
   "outputs": [],
   "source": [
    "# Step 1 - Part 5:\n",
    "# Define a new `st.sidebar.write` function that will display the balance of the\n",
    "# customer’s account. Inside this function, call the `get_balance` function and\n",
    "#  pass it your Ethereum `account.address`.\n",
    "\n",
    "# @TODO\n",
    "# Call `get_balance` function and pass it your account address\n",
    "# Write the returned ether balance to the sidebar\n",
    "# YOUR CODE HERE"
   ]
  },
  {
   "cell_type": "code",
   "execution_count": 12,
   "id": "d5ef778c-4418-44ea-9cd2-fa6c03ec27fd",
   "metadata": {},
   "outputs": [
    {
     "data": {
      "text/plain": [
       "DeltaGenerator(_root_container=1, _provided_cursor=None, _parent=DeltaGenerator(_root_container=0, _provided_cursor=None, _parent=None, _block_type=None, _form_data=None), _block_type=None, _form_data=None)"
      ]
     },
     "execution_count": 12,
     "metadata": {},
     "output_type": "execute_result"
    }
   ],
   "source": [
    "# Create a select box to chose a FinTech Hire candidate\n",
    "person = st.sidebar.selectbox('Select a Person', people)\n",
    "\n",
    "# Create a input field to record the number of hours the candidate worked\n",
    "hours = st.sidebar.number_input(\"Number of Hours\")\n",
    "\n",
    "st.sidebar.markdown(\"## Candidate Name, Hourly Rate, and Ethereum Address\")\n",
    "\n",
    "# Identify the FinTech Hire candidate\n",
    "candidate = candidate_database[person][0]\n",
    "\n",
    "# Write the Fintech Finder candidate's name to the sidebar\n",
    "st.sidebar.write(candidate)\n",
    "\n",
    "# Identify the FinTech Finder candidate's hourly rate\n",
    "hourly_rate = candidate_database[person][3]\n",
    "\n",
    "# Write the inTech Finder candidate's hourly rate to the sidebar\n",
    "st.sidebar.write(hourly_rate)\n",
    "\n",
    "# Identify the FinTech Finder candidate's Ethereum Address\n",
    "candidate_address = candidate_database[person][1]\n",
    "\n",
    "# Write the inTech Finder candidate's Ethereum Address to the sidebar\n",
    "st.sidebar.write(candidate_address)\n",
    "\n",
    "# Write the Fintech Finder candidate's name to the sidebar\n",
    "\n",
    "st.sidebar.markdown(\"## Total Wage in Ether\")"
   ]
  },
  {
   "cell_type": "code",
   "execution_count": 13,
   "id": "320fc253-9b7d-4a13-a4d2-2eca04580c1c",
   "metadata": {},
   "outputs": [],
   "source": [
    "# Step 2: Sign and Execute a Payment Transaction\n",
    "\n",
    "# Complete the following steps:\n",
    "\n",
    "# 1. Fintech Finder customers will select a fintech professional from the\n",
    "# application interface’s drop-down menu, and then input the amount of time for\n",
    "# which they’ll hire the worker. Code the application so that once a customer\n",
    "# completes these steps, the application will calculate the amount that the\n",
    "# worker will be paid in ether. To do so, complete the following steps:\n",
    "\n",
    "    # * Write the equation that calculates the candidate’s wage. This equation\n",
    "    #  should assess the candidate’s hourly rate from the candidate database\n",
    "    # (`candidate_database[person][3]`) and then multiply this hourly rate by\n",
    "    # the value of the `hours` variable. Save this calculation’s output as a\n",
    "    # variable named `wage`.\n",
    "\n",
    "    # * Write the `wage` variable to the Streamlit sidebar by\n",
    "    # using `st.sidebar.write`.\n",
    "\n",
    "# 2. Now that the application can calculate a candidate’s wage, write the code\n",
    "# that will allow a customer (you, in this case) to send an Ethereum blockchain\n",
    "# transaction that pays the hired candidate. To accomplish this, locate the\n",
    "# code that reads `if st.sidebar.button(\"Send Transaction\")`. You’ll need to\n",
    "# add logic to this `if` statement that sends the appropriate information to\n",
    "# the `send_transaction` function (which you imported from the `crypto_wallet`\n",
    "# script file). Inside the `if` statement, add the following functionality:\n",
    "\n",
    "    # * Call the `send_transaction()` function and pass it three parameters:\n",
    "        # - Your Ethereum `account` information. (Remember that this `account`\n",
    "        # instance was created when the `generate_account` function was called.)\n",
    "        #  From the `account` instance, the application will be able to access the\n",
    "        #  `account.address` information that is needed to populate the `from` data\n",
    "        # attribute in the raw transaction.\n",
    "        #- The `candidate_address` (which will be created and identified in the\n",
    "        # sidebar when a customer selects a candidate). This will populate the `to`\n",
    "        # data attribute in the raw transaction.\n",
    "        # - The `wage` value. This will be passed to the `toWei` function to\n",
    "        # determine the wei value of the payment in the raw transaction.\n",
    "\n",
    "    # * Save the transaction hash that the `send_transaction` function returns\n",
    "    # as a variable named `transaction_hash`, and have it display on the\n",
    "    # application’s web interface."
   ]
  },
  {
   "cell_type": "code",
   "execution_count": 14,
   "id": "aa2b57ee-9f42-4744-be5d-dea80bfe8dd6",
   "metadata": {},
   "outputs": [],
   "source": [
    "# Step 2 - Part 1:\n",
    "# * Write the equation that calculates the candidate’s wage. This equation\n",
    "# should assess the candidate’s hourly rate from the candidate database\n",
    "# (`candidate_database[person][3]`) and then multiply this hourly rate by\n",
    "# the value of the `hours` variable. Save this calculation’s output as a\n",
    "# variable named `wage`.\n",
    "# * Write the `wage` variable to the Streamlit sidebar by using `st.sidebar.write`.\n",
    "\n",
    "# @TODO\n",
    "# Calculate total `wage` for the candidate by multiplying the candidate’s hourly\n",
    "# rate from the candidate database (`candidate_database[person][3]`) by the\n",
    "# value of the `hours` variable\n",
    "# YOUR CODE HERE\n",
    "\n",
    "# @TODO\n",
    "# Write the `wage` calculation to the Streamlit sidebar\n",
    "# YOUR CODE HERE"
   ]
  },
  {
   "cell_type": "code",
   "execution_count": 15,
   "id": "3f27008a-add4-43d1-8cce-19a31fa1c595",
   "metadata": {},
   "outputs": [
    {
     "ename": "FileNotFoundError",
     "evalue": "[Errno 2] No such file or directory: 'Images/lane.jpeg'",
     "output_type": "error",
     "traceback": [
      "\u001b[1;31m---------------------------------------------------------------------------\u001b[0m",
      "\u001b[1;31mFileNotFoundError\u001b[0m                         Traceback (most recent call last)",
      "\u001b[1;32m~\\AppData\\Local\\Temp/ipykernel_16696/2636074464.py\u001b[0m in \u001b[0;36m<module>\u001b[1;34m\u001b[0m\n\u001b[0;32m     36\u001b[0m \u001b[1;31m# The function that starts the Streamlit application\u001b[0m\u001b[1;33m\u001b[0m\u001b[1;33m\u001b[0m\u001b[1;33m\u001b[0m\u001b[0m\n\u001b[0;32m     37\u001b[0m \u001b[1;31m# Writes FinTech Finder candidates to the Streamlit page\u001b[0m\u001b[1;33m\u001b[0m\u001b[1;33m\u001b[0m\u001b[1;33m\u001b[0m\u001b[0m\n\u001b[1;32m---> 38\u001b[1;33m \u001b[0mget_people\u001b[0m\u001b[1;33m(\u001b[0m\u001b[1;33m)\u001b[0m\u001b[1;33m\u001b[0m\u001b[1;33m\u001b[0m\u001b[0m\n\u001b[0m",
      "\u001b[1;32m~\\AppData\\Local\\Temp/ipykernel_16696/2487565535.py\u001b[0m in \u001b[0;36mget_people\u001b[1;34m()\u001b[0m\n\u001b[0;32m     19\u001b[0m \u001b[1;33m\u001b[0m\u001b[0m\n\u001b[0;32m     20\u001b[0m     \u001b[1;32mfor\u001b[0m \u001b[0mnumber\u001b[0m \u001b[1;32min\u001b[0m \u001b[0mrange\u001b[0m\u001b[1;33m(\u001b[0m\u001b[0mlen\u001b[0m\u001b[1;33m(\u001b[0m\u001b[0mpeople\u001b[0m\u001b[1;33m)\u001b[0m\u001b[1;33m)\u001b[0m\u001b[1;33m:\u001b[0m\u001b[1;33m\u001b[0m\u001b[1;33m\u001b[0m\u001b[0m\n\u001b[1;32m---> 21\u001b[1;33m         \u001b[0mst\u001b[0m\u001b[1;33m.\u001b[0m\u001b[0mimage\u001b[0m\u001b[1;33m(\u001b[0m\u001b[0mdb_list\u001b[0m\u001b[1;33m[\u001b[0m\u001b[0mnumber\u001b[0m\u001b[1;33m]\u001b[0m\u001b[1;33m[\u001b[0m\u001b[1;36m4\u001b[0m\u001b[1;33m]\u001b[0m\u001b[1;33m,\u001b[0m \u001b[0mwidth\u001b[0m\u001b[1;33m=\u001b[0m\u001b[1;36m200\u001b[0m\u001b[1;33m)\u001b[0m\u001b[1;33m\u001b[0m\u001b[1;33m\u001b[0m\u001b[0m\n\u001b[0m\u001b[0;32m     22\u001b[0m         \u001b[0mst\u001b[0m\u001b[1;33m.\u001b[0m\u001b[0mwrite\u001b[0m\u001b[1;33m(\u001b[0m\u001b[1;34m\"Name: \"\u001b[0m\u001b[1;33m,\u001b[0m \u001b[0mdb_list\u001b[0m\u001b[1;33m[\u001b[0m\u001b[0mnumber\u001b[0m\u001b[1;33m]\u001b[0m\u001b[1;33m[\u001b[0m\u001b[1;36m0\u001b[0m\u001b[1;33m]\u001b[0m\u001b[1;33m)\u001b[0m\u001b[1;33m\u001b[0m\u001b[1;33m\u001b[0m\u001b[0m\n\u001b[0;32m     23\u001b[0m         \u001b[0mst\u001b[0m\u001b[1;33m.\u001b[0m\u001b[0mwrite\u001b[0m\u001b[1;33m(\u001b[0m\u001b[1;34m\"Ethereum Account Address: \"\u001b[0m\u001b[1;33m,\u001b[0m \u001b[0mdb_list\u001b[0m\u001b[1;33m[\u001b[0m\u001b[0mnumber\u001b[0m\u001b[1;33m]\u001b[0m\u001b[1;33m[\u001b[0m\u001b[1;36m1\u001b[0m\u001b[1;33m]\u001b[0m\u001b[1;33m)\u001b[0m\u001b[1;33m\u001b[0m\u001b[1;33m\u001b[0m\u001b[0m\n",
      "\u001b[1;32m~\\anaconda3\\lib\\site-packages\\streamlit\\elements\\image.py\u001b[0m in \u001b[0;36mimage\u001b[1;34m(self, image, caption, width, use_column_width, clamp, channels, output_format)\u001b[0m\n\u001b[0;32m    118\u001b[0m \u001b[1;33m\u001b[0m\u001b[0m\n\u001b[0;32m    119\u001b[0m         \u001b[0mimage_list_proto\u001b[0m \u001b[1;33m=\u001b[0m \u001b[0mImageListProto\u001b[0m\u001b[1;33m(\u001b[0m\u001b[1;33m)\u001b[0m\u001b[1;33m\u001b[0m\u001b[1;33m\u001b[0m\u001b[0m\n\u001b[1;32m--> 120\u001b[1;33m         marshall_images(\n\u001b[0m\u001b[0;32m    121\u001b[0m             \u001b[0mself\u001b[0m\u001b[1;33m.\u001b[0m\u001b[0mdg\u001b[0m\u001b[1;33m.\u001b[0m\u001b[0m_get_delta_path_str\u001b[0m\u001b[1;33m(\u001b[0m\u001b[1;33m)\u001b[0m\u001b[1;33m,\u001b[0m\u001b[1;33m\u001b[0m\u001b[1;33m\u001b[0m\u001b[0m\n\u001b[0;32m    122\u001b[0m             \u001b[0mimage\u001b[0m\u001b[1;33m,\u001b[0m\u001b[1;33m\u001b[0m\u001b[1;33m\u001b[0m\u001b[0m\n",
      "\u001b[1;32m~\\anaconda3\\lib\\site-packages\\streamlit\\elements\\image.py\u001b[0m in \u001b[0;36mmarshall_images\u001b[1;34m(coordinates, image, caption, width, proto_imgs, clamp, channels, output_format)\u001b[0m\n\u001b[0;32m    368\u001b[0m                 \u001b[0mis_svg\u001b[0m \u001b[1;33m=\u001b[0m \u001b[1;32mTrue\u001b[0m\u001b[1;33m\u001b[0m\u001b[1;33m\u001b[0m\u001b[0m\n\u001b[0;32m    369\u001b[0m         \u001b[1;32mif\u001b[0m \u001b[1;32mnot\u001b[0m \u001b[0mis_svg\u001b[0m\u001b[1;33m:\u001b[0m\u001b[1;33m\u001b[0m\u001b[1;33m\u001b[0m\u001b[0m\n\u001b[1;32m--> 370\u001b[1;33m             proto_img.url = image_to_url(\n\u001b[0m\u001b[0;32m    371\u001b[0m                 \u001b[0mimage\u001b[0m\u001b[1;33m,\u001b[0m \u001b[0mwidth\u001b[0m\u001b[1;33m,\u001b[0m \u001b[0mclamp\u001b[0m\u001b[1;33m,\u001b[0m \u001b[0mchannels\u001b[0m\u001b[1;33m,\u001b[0m \u001b[0moutput_format\u001b[0m\u001b[1;33m,\u001b[0m \u001b[0mimage_id\u001b[0m\u001b[1;33m\u001b[0m\u001b[1;33m\u001b[0m\u001b[0m\n\u001b[0;32m    372\u001b[0m             )\n",
      "\u001b[1;32m~\\anaconda3\\lib\\site-packages\\streamlit\\elements\\image.py\u001b[0m in \u001b[0;36mimage_to_url\u001b[1;34m(image, width, clamp, channels, output_format, image_id, allow_emoji)\u001b[0m\n\u001b[0;32m    284\u001b[0m         \u001b[1;31m# Finally, see if it's a file.\u001b[0m\u001b[1;33m\u001b[0m\u001b[1;33m\u001b[0m\u001b[1;33m\u001b[0m\u001b[0m\n\u001b[0;32m    285\u001b[0m         \u001b[1;32mtry\u001b[0m\u001b[1;33m:\u001b[0m\u001b[1;33m\u001b[0m\u001b[1;33m\u001b[0m\u001b[0m\n\u001b[1;32m--> 286\u001b[1;33m             \u001b[1;32mwith\u001b[0m \u001b[0mopen\u001b[0m\u001b[1;33m(\u001b[0m\u001b[0mimage\u001b[0m\u001b[1;33m,\u001b[0m \u001b[1;34m\"rb\"\u001b[0m\u001b[1;33m)\u001b[0m \u001b[1;32mas\u001b[0m \u001b[0mf\u001b[0m\u001b[1;33m:\u001b[0m\u001b[1;33m\u001b[0m\u001b[1;33m\u001b[0m\u001b[0m\n\u001b[0m\u001b[0;32m    287\u001b[0m                 \u001b[0mdata\u001b[0m \u001b[1;33m=\u001b[0m \u001b[0mf\u001b[0m\u001b[1;33m.\u001b[0m\u001b[0mread\u001b[0m\u001b[1;33m(\u001b[0m\u001b[1;33m)\u001b[0m\u001b[1;33m\u001b[0m\u001b[1;33m\u001b[0m\u001b[0m\n\u001b[0;32m    288\u001b[0m         \u001b[1;32mexcept\u001b[0m\u001b[1;33m:\u001b[0m\u001b[1;33m\u001b[0m\u001b[1;33m\u001b[0m\u001b[0m\n",
      "\u001b[1;31mFileNotFoundError\u001b[0m: [Errno 2] No such file or directory: 'Images/lane.jpeg'"
     ]
    }
   ],
   "source": [
    "# Step 2 - Part 2:\n",
    "# * Call the `send_transaction` function and pass it three parameters:\n",
    "    # - Your Ethereum `account` information. (Remember that this `account`\n",
    "    # instance was created when the `generate_account` function was called.)\n",
    "    #  From the `account` instance, the application will be able to access the\n",
    "    #  `account.address` information that is needed to populate the `from` data\n",
    "    # attribute in the raw transaction.\n",
    "    #- The `candidate_address` (which will be created and identified in the\n",
    "    # sidebar when a customer selects a candidate). This will populate the `to`\n",
    "    # data attribute in the raw transaction.\n",
    "    # - The `wage` value. This will be passed to the `toWei` function to\n",
    "    # determine the wei value of the payment in the raw transaction.\n",
    "\n",
    "# * Save the transaction hash that the `send_transaction` function returns as a\n",
    "# variable named `transaction_hash`, and have it display on the application’s\n",
    "# web interface.\n",
    "\n",
    "\n",
    "if st.sidebar.button(\"Send Transaction\"):\n",
    "\n",
    "    # @TODO\n",
    "    # Call the `send_transaction` function and pass it 3 parameters:\n",
    "    # Your `account`, the `candidate_address`, and the `wage` as parameters\n",
    "    # Save the returned transaction hash as a variable named `transaction_hash`\n",
    "    # YOUR CODE HERE\n",
    "\n",
    "    # Markdown for the transaction hash\n",
    "    st.sidebar.markdown(\"#### Validated Transaction Hash\")\n",
    "\n",
    "    # Write the returned transaction hash to the screen\n",
    "    st.sidebar.write(transaction_hash)\n",
    "\n",
    "    # Celebrate your successful payment\n",
    "    st.balloons()\n",
    "\n",
    "# The function that starts the Streamlit application\n",
    "# Writes FinTech Finder candidates to the Streamlit page\n",
    "get_people()"
   ]
  },
  {
   "cell_type": "code",
   "execution_count": 17,
   "id": "47892ea5-e7c6-45c3-9fd2-b94bf23276b8",
   "metadata": {},
   "outputs": [],
   "source": [
    "# Step 3: Inspect the Transaction\n",
    "\n",
    "# Send a test transaction by using the application’s web interface, and thenlook up the resulting transaction hash in Ganache.\n",
    "\n",
    "# Complete the following steps:\n",
    "\n",
    "# 1. From your terminal, navigate to the project folder that contains your `.env` file and the `fintech_finder.py` and `crypto_wallet.py` files. Be sure to activate your Conda `dev` environment if it is not already active.\n",
    "# 2. To launch the Streamlit application,type `streamlit run fintech_finder.py`.\n",
    "# 3. On the resulting webpage, select a candidate that you would like to hire from the appropriate drop-down menu. Then, enter the number of hours that you would like to hire them for. (Remember, you do not have a lot of ether in your account, so you cannot hire them for long!)\n",
    "# 4 Click the Send Transaction button to sign and send the transaction with your Ethereum account information. If the transaction is successfully communicated to Ganache, validated, and added to a block,a resulting transaction hash code will be written to the Streamlit application sidebar.\n",
    "# 5. Navigate to the Ganache accounts tab and locate your account (index 0).\n",
    "    # * Take a screenshot of the address, balance, and transaction (TX) count.Save this screenshot to the README.md file of your GitHub repository for this Challenge assignment.\n",
    "# 6. Navigate to the Ganache transactions tab and locate the transaction.\n",
    "    #* Click the transaction and take a screenshot of it. Save this screenshot to the README.md file of your GitHub repository for this Challenge assignment.\n"
   ]
  },
  {
   "cell_type": "code",
   "execution_count": null,
   "id": "db3c9e2e-ccdf-4b18-bfb2-8d2d368f91fc",
   "metadata": {},
   "outputs": [],
   "source": []
  }
 ],
 "metadata": {
  "kernelspec": {
   "display_name": "Python 3 (ipykernel)",
   "language": "python",
   "name": "python3"
  },
  "language_info": {
   "codemirror_mode": {
    "name": "ipython",
    "version": 3
   },
   "file_extension": ".py",
   "mimetype": "text/x-python",
   "name": "python",
   "nbconvert_exporter": "python",
   "pygments_lexer": "ipython3",
   "version": "3.8.8"
  }
 },
 "nbformat": 4,
 "nbformat_minor": 5
}
